{
 "cells": [
  {
   "cell_type": "code",
   "execution_count": 74,
   "metadata": {
    "collapsed": true
   },
   "outputs": [],
   "source": [
    "import pandas as pd\n",
    "import numpy as np\n",
    "import seaborn as sns\n",
    "import matplotlib \n",
    "import matplotlib.pyplot as plt\n",
    "import random\n",
    "\n",
    "%matplotlib inline\n",
    "sns.set()"
   ]
  },
  {
   "cell_type": "code",
   "execution_count": 75,
   "metadata": {
    "collapsed": true
   },
   "outputs": [],
   "source": [
    "firstnames = [name.strip().capitalize() for name in open('firstnames.txt', 'r').readlines()]\n",
    "lastnames = [name.strip().capitalize() for name in open('lastnames.txt', 'r').readlines()]\n",
    "\n",
    "symptoms = [\n",
    "    'anhedonia',\n",
    "    'fatigue',\n",
    "    'appetite_weight',\n",
    "    'depressed_mood',\n",
    "    'worthlessness_guilt',\n",
    "    'suicide',\n",
    "    ]\n",
    "\n",
    "treatments = [\n",
    "    'CBT',\n",
    "    'SSRI',\n",
    "    'SNRI',\n",
    "    'ECT',\n",
    "    ]\n",
    "\n",
    "patients = []\n",
    "\n",
    "# Generate sample patient data\n",
    "id_counter = 0\n",
    "for patient in range(100):\n",
    "    d = {\n",
    "            'patient_id': id_counter,\n",
    "            'name': '{} {}'.format(random.choice(firstnames), random.choice(lastnames)),\n",
    "            'age': random.randint(10,110),\n",
    "            # 0 - Female\n",
    "            # 1 - Male\n",
    "            'gender': random.randint(0,1),\n",
    "        }\n",
    "    \n",
    "    # 0 - Does not exhibit symptom\n",
    "    # 100 - Maximum exhibition of symptom\n",
    "    d.update({symptom: random.randint(0,100) for symptom in symptoms})\n",
    "    \n",
    "    # 0 - Treatment not effective\n",
    "    # 1 - Treatment mildly effective\n",
    "    # 2 - Treatment highly effective\n",
    "    d.update({treatment: random.randint(0,2) for treatment in treatments})\n",
    "    \n",
    "    patients += [d]\n",
    "    id_counter += 1"
   ]
  },
  {
   "cell_type": "code",
   "execution_count": 76,
   "metadata": {},
   "outputs": [
    {
     "data": {
      "text/html": [
       "<div>\n",
       "<style scoped>\n",
       "    .dataframe tbody tr th:only-of-type {\n",
       "        vertical-align: middle;\n",
       "    }\n",
       "\n",
       "    .dataframe tbody tr th {\n",
       "        vertical-align: top;\n",
       "    }\n",
       "\n",
       "    .dataframe thead th {\n",
       "        text-align: right;\n",
       "    }\n",
       "</style>\n",
       "<table border=\"1\" class=\"dataframe\">\n",
       "  <thead>\n",
       "    <tr style=\"text-align: right;\">\n",
       "      <th></th>\n",
       "      <th>patient_id</th>\n",
       "      <th>name</th>\n",
       "      <th>age</th>\n",
       "      <th>gender</th>\n",
       "      <th>anhedonia</th>\n",
       "      <th>fatigue</th>\n",
       "      <th>appetite_weight</th>\n",
       "      <th>depressed_mood</th>\n",
       "      <th>worthlessness_guilt</th>\n",
       "      <th>suicide</th>\n",
       "      <th>CBT</th>\n",
       "      <th>SSRI</th>\n",
       "      <th>SNRI</th>\n",
       "      <th>ECT</th>\n",
       "    </tr>\n",
       "  </thead>\n",
       "  <tbody>\n",
       "    <tr>\n",
       "      <th>0</th>\n",
       "      <td>0</td>\n",
       "      <td>Bernelle Kundu</td>\n",
       "      <td>37</td>\n",
       "      <td>0</td>\n",
       "      <td>89</td>\n",
       "      <td>78</td>\n",
       "      <td>1</td>\n",
       "      <td>51</td>\n",
       "      <td>55</td>\n",
       "      <td>3</td>\n",
       "      <td>0</td>\n",
       "      <td>0</td>\n",
       "      <td>0</td>\n",
       "      <td>1</td>\n",
       "    </tr>\n",
       "    <tr>\n",
       "      <th>1</th>\n",
       "      <td>1</td>\n",
       "      <td>Kacie Chiodi</td>\n",
       "      <td>10</td>\n",
       "      <td>1</td>\n",
       "      <td>19</td>\n",
       "      <td>90</td>\n",
       "      <td>27</td>\n",
       "      <td>98</td>\n",
       "      <td>36</td>\n",
       "      <td>97</td>\n",
       "      <td>0</td>\n",
       "      <td>0</td>\n",
       "      <td>1</td>\n",
       "      <td>1</td>\n",
       "    </tr>\n",
       "    <tr>\n",
       "      <th>2</th>\n",
       "      <td>2</td>\n",
       "      <td>Giuditta Bommarito</td>\n",
       "      <td>29</td>\n",
       "      <td>0</td>\n",
       "      <td>17</td>\n",
       "      <td>36</td>\n",
       "      <td>80</td>\n",
       "      <td>4</td>\n",
       "      <td>96</td>\n",
       "      <td>8</td>\n",
       "      <td>2</td>\n",
       "      <td>2</td>\n",
       "      <td>2</td>\n",
       "      <td>0</td>\n",
       "    </tr>\n",
       "  </tbody>\n",
       "</table>\n",
       "</div>"
      ],
      "text/plain": [
       "   patient_id                name  age  gender  anhedonia  fatigue  \\\n",
       "0           0      Bernelle Kundu   37       0         89       78   \n",
       "1           1        Kacie Chiodi   10       1         19       90   \n",
       "2           2  Giuditta Bommarito   29       0         17       36   \n",
       "\n",
       "   appetite_weight  depressed_mood  worthlessness_guilt  suicide  CBT  SSRI  \\\n",
       "0                1              51                   55        3    0     0   \n",
       "1               27              98                   36       97    0     0   \n",
       "2               80               4                   96        8    2     2   \n",
       "\n",
       "   SNRI  ECT  \n",
       "0     0    1  \n",
       "1     1    1  \n",
       "2     2    0  "
      ]
     },
     "execution_count": 76,
     "metadata": {},
     "output_type": "execute_result"
    }
   ],
   "source": [
    "df = pd.DataFrame(patients)\n",
    "df = df[['patient_id','name', 'age', 'gender'] + symptoms + treatments]\n",
    "df.head(3)"
   ]
  },
  {
   "cell_type": "code",
   "execution_count": 87,
   "metadata": {},
   "outputs": [
    {
     "data": {
      "text/plain": [
       "array([89, 78, 1, 51, 55, 3], dtype=object)"
      ]
     },
     "execution_count": 87,
     "metadata": {},
     "output_type": "execute_result"
    }
   ],
   "source": []
  },
  {
   "cell_type": "code",
   "execution_count": 92,
   "metadata": {},
   "outputs": [],
   "source": [
    "def draw_radar(patient_id):\n",
    "    labels = np.array(symptoms)\n",
    "    stats = df.loc[patient_id, labels].values\n",
    "\n",
    "    # Reference - https://www.kaggle.com/typewind/draw-a-radar-chart-with-python-in-a-simple-way\n",
    "    angles = np.linspace(0, 2*np.pi, len(labels), endpoint=False)\n",
    "    # close the plot\n",
    "    stats = np.concatenate((stats,[stats[0]]))\n",
    "    angles = np.concatenate((angles,[angles[0]]))\n",
    "\n",
    "    fig = plt.figure()\n",
    "\n",
    "    ax = fig.add_subplot(111, polar=True)\n",
    "    ax.plot(angles, stats, 'o-', linewidth=2)\n",
    "    ax.fill(angles, stats, alpha=0.25)\n",
    "    ax.set_thetagrids(angles * 180/np.pi, labels)\n",
    "    ax.set_title([df.loc[patient_id,\"name\"]][0])\n",
    "    ax.grid(True)"
   ]
  },
  {
   "cell_type": "code",
   "execution_count": 93,
   "metadata": {},
   "outputs": [
    {
     "data": {
      "image/png": "[encoded data removed]",
      "text/plain": [
       "<matplotlib.figure.Figure at 0x109636f28>"
      ]
     },
     "metadata": {},
     "output_type": "display_data"
    }
   ],
   "source": [
    "for patient_id in range(3draw_radar(1)"
   ]
  },
  {
   "cell_type": "code",
   "execution_count": null,
   "metadata": {
    "collapsed": true
   },
   "outputs": [],
   "source": []
  }
 ],
 "metadata": {
  "kernelspec": {
   "display_name": "Python 3",
   "language": "python",
   "name": "python3"
  },
  "language_info": {
   "codemirror_mode": {
    "name": "ipython",
    "version": 3
   },
   "file_extension": ".py",
   "mimetype": "text/x-python",
   "name": "python",
   "nbconvert_exporter": "python",
   "pygments_lexer": "ipython3",
   "version": "3.6.2"
  }
 },
 "nbformat": 4,
 "nbformat_minor": 2
}
