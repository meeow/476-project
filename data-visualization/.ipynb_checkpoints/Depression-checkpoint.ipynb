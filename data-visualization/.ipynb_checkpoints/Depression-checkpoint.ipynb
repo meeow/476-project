{
 "cells": [
  {
   "cell_type": "code",
   "execution_count": null,
   "metadata": {
    "collapsed": true
   },
   "outputs": [],
   "source": [
    "import pandas as pd\n",
    "import matplotlib \n",
    "import random\n",
    "\n",
    "factors = [\n",
    "    'age',\n",
    "    'gender',\n",
    "]\n",
    "\n",
    "symptoms = [\n",
    "    'anhedonia',\n",
    "    'fatigue',\n",
    "    'appetite_weight',\n",
    "    'depressed_mood',\n",
    "    'worthlessness_guilt',\n",
    "    'suicide'\n",
    "    ]\n",
    "\n",
    "treatments = [\n",
    "    'CBT',\n",
    "    'SSRI',\n",
    "    'SNRI',\n",
    "    'ECT'\n",
    "]\n",
    "\n",
    "d = {symptoms[i]: random.randint(100) "
   ]
  }
 ],
 "metadata": {
  "kernelspec": {
   "display_name": "Python 3",
   "language": "python",
   "name": "python3"
  },
  "language_info": {
   "codemirror_mode": {
    "name": "ipython",
    "version": 3
   },
   "file_extension": ".py",
   "mimetype": "text/x-python",
   "name": "python",
   "nbconvert_exporter": "python",
   "pygments_lexer": "ipython3",
   "version": "3.6.2"
  }
 },
 "nbformat": 4,
 "nbformat_minor": 2
}
